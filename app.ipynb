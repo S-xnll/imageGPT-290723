{
 "cells": [
  {
   "cell_type": "code",
   "execution_count": null,
   "id": "ac5ad1d7",
   "metadata": {},
   "outputs": [
    {
     "name": "stdout",
     "output_type": "stream",
     "text": [
      " * Serving Flask app '__main__'\n",
      " * Debug mode: off\n"
     ]
    },
    {
     "name": "stderr",
     "output_type": "stream",
     "text": [
      "WARNING: This is a development server. Do not use it in a production deployment. Use a production WSGI server instead.\n",
      " * Running on http://127.0.0.1:5000\n",
      "Press CTRL+C to quit\n",
      "127.0.0.1 - - [29/Jul/2023 11:29:49] \"GET / HTTP/1.1\" 200 -\n",
      "127.0.0.1 - - [29/Jul/2023 11:30:09] \"POST / HTTP/1.1\" 200 -\n",
      "127.0.0.1 - - [29/Jul/2023 11:30:11] \"POST / HTTP/1.1\" 200 -\n",
      "[2023-07-29 11:31:57,025] ERROR in app: Exception on / [POST]\n",
      "Traceback (most recent call last):\n",
      "  File \"C:\\Anaconda\\Lib\\site-packages\\flask\\app.py\", line 2525, in wsgi_app\n",
      "    response = self.full_dispatch_request()\n",
      "               ^^^^^^^^^^^^^^^^^^^^^^^^^^^^\n",
      "  File \"C:\\Anaconda\\Lib\\site-packages\\flask\\app.py\", line 1822, in full_dispatch_request\n",
      "    rv = self.handle_user_exception(e)\n",
      "         ^^^^^^^^^^^^^^^^^^^^^^^^^^^^^\n",
      "  File \"C:\\Anaconda\\Lib\\site-packages\\flask\\app.py\", line 1820, in full_dispatch_request\n",
      "    rv = self.dispatch_request()\n",
      "         ^^^^^^^^^^^^^^^^^^^^^^^\n",
      "  File \"C:\\Anaconda\\Lib\\site-packages\\flask\\app.py\", line 1796, in dispatch_request\n",
      "    return self.ensure_sync(self.view_functions[rule.endpoint])(**view_args)\n",
      "           ^^^^^^^^^^^^^^^^^^^^^^^^^^^^^^^^^^^^^^^^^^^^^^^^^^^^^^^^^^^^^^^^^\n",
      "  File \"D:\\Temp\\ipykernel_26076\\1471077998.py\", line 29, in index\n",
      "    get_result = requests.post(get_url,headers=headers).json()[\"output\"]\n",
      "                 ~~~~~~~~~~~~~~~~~~~~~~~~~~~~~~~~~~~~~~~~~~~~~^^^^^^^^^^\n",
      "KeyError: 'output'\n",
      "127.0.0.1 - - [29/Jul/2023 11:31:57] \"POST / HTTP/1.1\" 500 -\n"
     ]
    }
   ],
   "source": [
    "from flask import Flask, request, render_template\n",
    "import json\n",
    "import time\n",
    "import requests\n",
    "\n",
    "app = Flask(__name__)\n",
    "\n",
    "\n",
    "@app.route(\"/\",methods=[\"GET\",\"POST\"])\n",
    "def index():\n",
    "    if request.method == \"POST\":\n",
    "        q = request.form.get(\"question\")\n",
    "        \n",
    "        body = json.dumps(\n",
    "            {\n",
    "                \"version\": \"db21e45d3f7023abc2a46ee38a23973f6dce16bb082a930b0c49861f96d1e5bf\",\n",
    "                \"input\": {\"prompt\":q}\n",
    "            }\n",
    "        )\n",
    "        \n",
    "        headers = {\n",
    "            \"Authorization\" : \"Token 787f515cb0624813736c11e7fefec66473394f02\",\n",
    "            \"Content-Type\" : \"application/json\"\n",
    "        }\n",
    "        \n",
    "        r = requests.post('https://api.replicate.com/v1/predictions',data=body,headers=headers)\n",
    "        time.sleep(10)\n",
    "        get_url = r.json()[\"urls\"][\"get\"]\n",
    "        get_result = requests.post(get_url,headers=headers).json()[\"output\"]\n",
    "        \n",
    "        return(render_template(\"index.html\",result=get_result[0]))\n",
    "    else:\n",
    "        return(render_template(\"index.html\",result=\"waiting\"))\n",
    "\n",
    "if __name__ == \"__main__\":\n",
    "    app.run()"
   ]
  },
  {
   "cell_type": "code",
   "execution_count": null,
   "id": "681840a4",
   "metadata": {},
   "outputs": [],
   "source": []
  }
 ],
 "metadata": {
  "kernelspec": {
   "display_name": "Python 3 (ipykernel)",
   "language": "python",
   "name": "python3"
  },
  "language_info": {
   "codemirror_mode": {
    "name": "ipython",
    "version": 3
   },
   "file_extension": ".py",
   "mimetype": "text/x-python",
   "name": "python",
   "nbconvert_exporter": "python",
   "pygments_lexer": "ipython3",
   "version": "3.11.3"
  }
 },
 "nbformat": 4,
 "nbformat_minor": 5
}
